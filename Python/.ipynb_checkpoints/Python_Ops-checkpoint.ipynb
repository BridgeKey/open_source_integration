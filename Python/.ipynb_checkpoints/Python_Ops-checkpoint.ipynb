{
 "cells": [
  {
   "cell_type": "code",
   "execution_count": 7,
   "metadata": {},
   "outputs": [],
   "source": [
    "def runPythoncode():\n",
    "    \"Output: MyOutPutKey\"\n",
    "    import swat\n",
    "    import pandas\n",
    "    from datetime import datetime\n",
    "\n",
    "    s = swat.CAS('localhost', 5570, 'sasdemo', 'Orion123')\n",
    "    fetch_opts = dict(maxrows=100000000, to=1000000)\n",
    "    sas_iris = pandas.DataFrame(s.table.fetch(table={\"caslib\":\"open_source_integration\", \"name\":\"iris\"}, **fetch_opts)[\"Fetch\"])\n",
    "\n",
    "    cols = sas_iris.columns\n",
    "    print(cols)\n",
    "    cols = cols[1:5]\n",
    "    sas_iris1 = sas_iris[cols]\n",
    "\n",
    "    # now adding new column \"total_values\" to dataframe data.\n",
    "    sas_iris[\"TotalValues\"]=sas_iris1[cols].sum(axis=1)\n",
    "    # here axis=1 means you are working in rows,\n",
    "    # whereas axis=0 means you are working in columns.\n",
    "\n",
    "    # add a current time variable\n",
    "    x = datetime.now()\n",
    "    sas_iris[\"Time\"] = x.strftime(\"%m/%d/%Y %H:%M:%S\")\n",
    "\n",
    "\n",
    "    s.dropTable(name = \"iris_from_python\",\n",
    "                caslib = \"open_source_integration\",\n",
    "                quiet = \"TRUE\")\n",
    "    s.upload_frame(sas_iris,\n",
    "                    casout=dict(caslib = \"open_source_integration\",\n",
    "                                name = \"iris_from_python\",\n",
    "                                promote = 'true'))"
   ]
  }
 ],
 "metadata": {
  "kernelspec": {
   "display_name": "Python 3",
   "language": "python",
   "name": "python3"
  },
  "language_info": {
   "codemirror_mode": {
    "name": "ipython",
    "version": 3
   },
   "file_extension": ".py",
   "mimetype": "text/x-python",
   "name": "python",
   "nbconvert_exporter": "python",
   "pygments_lexer": "ipython3",
   "version": "3.7.3"
  }
 },
 "nbformat": 4,
 "nbformat_minor": 2
}
