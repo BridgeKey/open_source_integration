{
 "cells": [
  {
   "cell_type": "code",
   "execution_count": 38,
   "metadata": {},
   "outputs": [],
   "source": [
    "def runPythonCode():    \n",
    "    \"Output: MyOutPutKey\"\n",
    "    import wikipedia\n",
    "    import pandas\n",
    "    import swat\n",
    "    from datetime import datetime\n",
    "\n",
    "    s = swat.CAS('localhost', 5570, 'sasdemo', 'Orion123')\n",
    "    fetch_opts = dict(maxrows=100000000, to=1000000)\n",
    "    sas_iris = pandas.DataFrame(s.table.fetch(table={\"caslib\":\"open_source_integration\", \"name\":\"iris\"}, **fetch_opts)[\"Fetch\"])\n",
    "\n",
    "    test = pandas.DataFrame(sas_iris.Species.unique())\n",
    "\n",
    "    summary_result = test.apply(lambda x : wikipedia.summary(\"Iris \" + x, sentences=1), axis=1)\n",
    "\n",
    "    def wiki_URL(x):\n",
    "        page = wikipedia.page(\"Iris \" + x)\n",
    "        full = page.url\n",
    "        result = full.replace('https://en.wikipedia.org/wiki/','')\n",
    "        return(result)\n",
    "\n",
    "    URL_result = test.apply(wiki_URL, axis=1)\n",
    "    \n",
    "    result = pandas.concat([test, summary_result, URL_result], axis = 1)\n",
    "    result.columns = [\"Species\",\"Summary\",\"URL\"]\n",
    "\n",
    "    new = sas_iris.set_index('Species').join(result.set_index('Species'))\n",
    "\n",
    "    x = datetime.now()\n",
    "    new[\"Time\"] = x.strftime(\"%m/%d/%Y %H:%M:%S\")\n",
    "    new.reset_index(inplace=True)\n",
    "\n",
    "    s.dropTable(name = \"iris_from_python\",\n",
    "                caslib = \"open_source_integration\",\n",
    "                quiet = \"TRUE\")\n",
    "    s.upload_frame(new,\n",
    "                    casout=dict(caslib = \"open_source_integration\",\n",
    "                                name = \"iris_from_python\",\n",
    "                                promote = 'true'))"
   ]
  },
  {
   "cell_type": "code",
   "execution_count": 54,
   "metadata": {},
   "outputs": [
    {
     "name": "stdout",
     "output_type": "stream",
     "text": [
      "NOTE: Cloud Analytic Services made the uploaded file available as table WIKISEARCH in caslib open_source_integration.\n",
      "NOTE: The table WIKISEARCH has been created in caslib open_source_integration from binary data uploaded to Cloud Analytic Services.\n",
      "Tour de France: The Tour de France (French pronunciation: ​[tuʁ də fʁɑ̃s]) is an annual men's multiple stage bicycle race primarily held in France, while also occasionally passing through nearby countries.\n"
     ]
    }
   ],
   "source": [
    "def wikiQuery(query = \"Dandelion\"):\n",
    "    \"Output: MyOutPutKey\"\n",
    "    import wikipedia\n",
    "    import pandas\n",
    "    import swat\n",
    "    from datetime import datetime\n",
    "    \n",
    "    s = swat.CAS('localhost', 5570, 'sasdemo', 'Orion123')\n",
    "    \n",
    "    try:\n",
    "        result = wikipedia.page(query)\n",
    "        full_URL = result.url\n",
    "        URL = full_URL.replace('https://en.wikipedia.org/wiki/','')\n",
    "        Summary = wikipedia.summary(query, sentences = 1)\n",
    "    except Exception:\n",
    "        URL = \"Search term overly ambiguous\"\n",
    "        Summary = \"Search term overly ambiguous\"\n",
    "        \n",
    "    \n",
    "    d = {'Query': [query], 'Summary': [Summary], 'URL':[URL]}\n",
    "    query_result = pandas.DataFrame(data=d)\n",
    "    \n",
    "    s.dropTable(name = \"wikiSearch\",\n",
    "                caslib = \"open_source_integration\",\n",
    "                quiet = \"TRUE\")\n",
    "    s.upload_frame(query_result,\n",
    "                    casout=dict(caslib = \"open_source_integration\",\n",
    "                                name = \"wikiSearch\",\n",
    "                                promote = 'true'))\n",
    "    print(query + \": \" + Summary)\n"
   ]
  }
 ],
 "metadata": {
  "kernelspec": {
   "display_name": "Python 3",
   "language": "python",
   "name": "python3"
  },
  "language_info": {
   "codemirror_mode": {
    "name": "ipython",
    "version": 3
   },
   "file_extension": ".py",
   "mimetype": "text/x-python",
   "name": "python",
   "nbconvert_exporter": "python",
   "pygments_lexer": "ipython3",
   "version": "3.7.3"
  }
 },
 "nbformat": 4,
 "nbformat_minor": 2
}
