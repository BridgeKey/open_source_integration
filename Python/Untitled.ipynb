{
 "cells": [
  {
   "cell_type": "code",
   "execution_count": 135,
   "metadata": {},
   "outputs": [
    {
     "name": "stdout",
     "output_type": "stream",
     "text": [
      "NOTE: Cloud Analytic Services made the uploaded file available as table IRIS_FROM_PYTHON in caslib open_source_integration.\n",
      "NOTE: The table IRIS_FROM_PYTHON has been created in caslib open_source_integration from binary data uploaded to Cloud Analytic Services.\n"
     ]
    },
    {
     "data": {
      "text/plain": [
       "CASTable('IRIS_FROM_PYTHON', caslib='open_source_integration')"
      ]
     },
     "execution_count": 135,
     "metadata": {},
     "output_type": "execute_result"
    }
   ],
   "source": [
    "import wikipedia\n",
    "import pandas\n",
    "import swat\n",
    "from datetime import datetime\n",
    "\n",
    "s = swat.CAS('localhost', 5570, 'sasdemo', 'Orion123')\n",
    "fetch_opts = dict(maxrows=100000000, to=1000000)\n",
    "sas_iris = pandas.DataFrame(s.table.fetch(table={\"caslib\":\"open_source_integration\", \"name\":\"iris\"}, **fetch_opts)[\"Fetch\"])\n",
    "\n",
    "test = pandas.DataFrame(sas_iris.Species.unique())\n",
    "\n",
    "summary_result = test.apply(lambda x : wikipedia.summary(\"Iris \" + x, sentences=1), axis=1)\n",
    "\n",
    "def wiki_image(x):\n",
    "    page = wikipedia.page(\"Iris \" + x)\n",
    "    result = page.images[0]\n",
    "    return(result)\n",
    "image_result = test.apply(wiki_image, axis=1)\n",
    "\n",
    "result = pandas.concat([test, summary_result, image_result], axis = 1)\n",
    "result.columns = [\"Species\",\"Summary\",\"ImageURL\"]\n",
    "\n",
    "new = sas_iris.set_index('Species').join(result.set_index('Species'))\n",
    "\n",
    "x = datetime.now()\n",
    "new[\"Time\"] = x.strftime(\"%m/%d/%Y %H:%M:%S\")\n",
    "\n",
    "s.dropTable(name = \"iris_from_python\",\n",
    "            caslib = \"open_source_integration\",\n",
    "            quiet = \"TRUE\")\n",
    "s.upload_frame(sas_iris,\n",
    "                casout=dict(caslib = \"open_source_integration\",\n",
    "                            name = \"iris_from_python\",\n",
    "                            promote = 'true'))"
   ]
  }
 ],
 "metadata": {
  "kernelspec": {
   "display_name": "Python 3",
   "language": "python",
   "name": "python3"
  },
  "language_info": {
   "codemirror_mode": {
    "name": "ipython",
    "version": 3
   },
   "file_extension": ".py",
   "mimetype": "text/x-python",
   "name": "python",
   "nbconvert_exporter": "python",
   "pygments_lexer": "ipython3",
   "version": "3.7.3"
  }
 },
 "nbformat": 4,
 "nbformat_minor": 2
}
